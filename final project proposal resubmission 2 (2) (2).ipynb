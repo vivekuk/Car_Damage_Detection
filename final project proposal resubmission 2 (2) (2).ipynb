{
 "cells": [
  {
   "cell_type": "markdown",
   "id": "dd1a1b7b",
   "metadata": {},
   "source": [
    "# FINAL PROJECT PROPOSAL:"
   ]
  },
  {
   "cell_type": "markdown",
   "id": "74720694",
   "metadata": {},
   "source": [
    "# Deep learning-based car Damage detection using yolo algorithm:\n"
   ]
  },
  {
   "cell_type": "markdown",
   "id": "0b798c3f",
   "metadata": {},
   "source": [
    "# TEAM MEMBERS: - \n",
    "\n",
    "1. VIVEK CHINTA \n",
    "\n",
    "2.PRARTHANA BAHURIYA \n",
    "\n",
    "3.SUKUMAR CHIGURUPATI \n"
   ]
  },
  {
   "cell_type": "markdown",
   "id": "56d5d5bc",
   "metadata": {},
   "source": [
    "# INTRODUCTION"
   ]
  },
  {
   "cell_type": "markdown",
   "id": "012672fe",
   "metadata": {},
   "source": [
    "To detect/recognize dents, scratches, crushed, broken, and no - damage from images of cars. The dataset contains car images with one or more damaged parts. The folder has all 1533 images in the dataset. There are three more folders train/, val/ and test/ for training, validation and testing purposes respectively. Using this data for training a object detection model to identify and classify all the classes using the YOLOv7 model which is extensively used in autonomous vehicles and vehicle self-damage detection.\n",
    "\n",
    "In the rage of emerging automotive technologies, many real-world infotainment systems have been developed for automotive with the help of machine learning techniques. One such invention is autonomous cars, autonomous cars in the sense an automatic car which makes its own decision based on experience. As a diagnosis system in autonomous cars a self-damage identifying system is essential during any external disturbance. Our proposed system identiﬁes and classiﬁes the Dent and Scratch in the car using Object Detection Techniques. Dents and Scratches can be identiﬁed at any part of the car using the ML models which will be further used as a test case in Car Damage Detection system and can be employed in the car dashboard as an notiﬁcation during external disturbance.\n"
   ]
  },
  {
   "cell_type": "markdown",
   "id": "95708e04",
   "metadata": {},
   "source": [
    "# RESEARCH QUESTIONS\n"
   ]
  },
  {
   "cell_type": "markdown",
   "id": "1919866a",
   "metadata": {},
   "source": [
    "1) How does the performance of YOLO v7 compare to earlier versions in detecting car damage?\n",
    "2) What impact does the size of the training dataset have on the accuracy of car damage detection using YOLO v7?\n",
    "\n",
    "3) Can transfer learning effectively enhance the training efficiency and accuracy of YOLO v7 for car damage detection?\n",
    "4) How does the model handle different types and severities of car damage, and what are the key challenges in classification?\n"
   ]
  },
  {
   "cell_type": "markdown",
   "id": "4b41c8b8",
   "metadata": {},
   "source": [
    "#  Explanation of Real-World Implementation:"
   ]
  },
  {
   "cell_type": "markdown",
   "id": "fb340475",
   "metadata": {},
   "source": [
    "For starters, the system could revolutionize the way insurance companies assess car damage. Typically, this process is manual and can be time-consuming and subjective. With YOLOv7-based system, insurers could automate and standardize damage assessment. We upload pictures of the damaged car, and boom – the system provides a quick, detailed analysis of the damage. This would speed up claim processing times, enhance accuracy, and potentially even reduce fraud.\n",
    "\n",
    "Another cool application could be in the automotive resale market. The system could be used to assess used cars, providing potential buyers with an unbiased, comprehensive report of any existing damage. This transparency could build trust in the market and might even help in accurately pricing the cars. "
   ]
  },
  {
   "cell_type": "markdown",
   "id": "33f577f7",
   "metadata": {},
   "source": [
    "# DATA TO BE USED"
   ]
  },
  {
   "cell_type": "markdown",
   "id": "1a6f9ed3",
   "metadata": {},
   "source": [
    "First Dataset\n",
    "\n",
    "https://www.istockphoto.com/search/2/image-film?family=creative&phrase=car%20damage\n",
    "this dataset likely contains a collection of images related to car damage. Such datasets are usually used for visual recognition tasks in machine learning and artificial intelligence, especially in projects like the one involving YOLOv7 for damage assessment. These images would typically showcase various types and degrees of damage to vehicles, which could be invaluable for training a model to accurately identify and classify car damage in real-world scenarios. \n",
    "\n",
    "\n",
    "Second Dataset:-\n",
    "\n",
    "https://drive.google.com/drive/u/1/my-drive\n",
    "\n",
    "Each entry consists of an image file name followed by a description of the damage, such as \"A Car with a Scratch,\" \"A Car with No Damage,\" \"A Car with a Dent,\" \"A Broken Car,\" and \"A Crushed Car.\" This dataset is ideal for training a machine learning model like YOLOv7 for recognizing and classifying different types of car damage\n",
    "\n",
    "\n",
    "\n"
   ]
  },
  {
   "cell_type": "markdown",
   "id": "f42b25ea",
   "metadata": {},
   "source": [
    "# APPROACH"
   ]
  },
  {
   "cell_type": "markdown",
   "id": "ab3ed7a4",
   "metadata": {},
   "source": [
    "\n",
    "\n",
    "\t•\tDefine Objectives and Scope:\n",
    "Clearly define the objectives of your project. What specific types of car damage are you aiming to detect? Are you focusing on a specific dataset or real-world scenario?\n",
    "\n",
    "\t•\tData Collection and Preprocessing:\n",
    "Gather a diverse dataset containing images of cars with different types and severities of damage. Ensure the dataset is labeled with bounding boxes around the damaged areas.\n",
    "Preprocess the dataset by resizing images, normalizing pixel values, and augmenting data to increase variability.\n",
    "\n",
    "\t•\tSelect or Prepare YOLO v7 Model:\n",
    "Choose or train a YOLO v7 model suitable for object detection. You can start with a pre-trained YOLO v7 model on a general object detection dataset and fine-tune it on your car damage dataset.\n",
    "\n",
    "\t•\tData Splitting:\n",
    "Split your dataset into training, validation, and testing sets. This helps assess the model's performance on unseen data and prevents overfitting.\n",
    "    \n",
    "    \n",
    "\tTraining:\n",
    "Train the YOLO v7 model on the training set. Experiment with hyperparameters, learning rates, and optimization techniques to achieve the best performance.\n",
    "    \n",
    "    \n",
    "\t•\tValidation and Hyperparameter Tuning:\n",
    "Validate the model on the validation set to fine-tune hyperparameters and detect potential issues like overfitting.\n",
    "Adjust parameters such as learning rate, batch size, and model architecture based on validation performance.\n",
    "    \n",
    "    \n",
    "\t•\tEvaluation:\n",
    "Evaluate the trained model on the testing set to measure its performance in terms of precision, recall, and F1 score.\n",
    "Analyze the model's ability to correctly detect and classify different types of car damage.\n",
    "\n",
    "\n",
    "\n"
   ]
  },
  {
   "cell_type": "markdown",
   "id": "358948bf",
   "metadata": {},
   "source": [
    "# Project Responsibilities"
   ]
  },
  {
   "cell_type": "markdown",
   "id": "93879126",
   "metadata": {},
   "source": [
    "Data Labeling:- Sukumar, Prarthana\n",
    "\n",
    "\n",
    "Model building:- Vivek,Prarthana\n",
    "\n",
    "data analysis:- Vivek,Sukumar"
   ]
  },
  {
   "cell_type": "markdown",
   "id": "d7c7e8e2",
   "metadata": {},
   "source": [
    "# CONCLUSION"
   ]
  },
  {
   "cell_type": "markdown",
   "id": "938e16d3",
   "metadata": {},
   "source": [
    "The goal would be to enable the system to accurately detect and possibly assess the severity of the damage, making it useful for applications in insurance claim processing, vehicle inspections for rental or resale, and other related fields. "
   ]
  }
 ],
 "metadata": {
  "kernelspec": {
   "display_name": "Python 3 (ipykernel)",
   "language": "python",
   "name": "python3"
  },
  "language_info": {
   "codemirror_mode": {
    "name": "ipython",
    "version": 3
   },
   "file_extension": ".py",
   "mimetype": "text/x-python",
   "name": "python",
   "nbconvert_exporter": "python",
   "pygments_lexer": "ipython3",
   "version": "3.11.5"
  }
 },
 "nbformat": 4,
 "nbformat_minor": 5
}
